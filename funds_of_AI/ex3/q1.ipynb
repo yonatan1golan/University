{
 "cells": [
  {
   "cell_type": "code",
   "execution_count": 4,
   "metadata": {},
   "outputs": [
    {
     "name": "stdout",
     "output_type": "stream",
     "text": [
      "Index(['MONTH', 'DAY_OF_WEEK', 'DEP_TIME_BLK', 'DISTANCE_GROUP',\n",
      "       'SEGMENT_NUMBER', 'CONCURRENT_FLIGHTS', 'NUMBER_OF_SEATS',\n",
      "       'CARRIER_NAME', 'AIRPORT_FLIGHTS_MONTH', 'AIRLINE_FLIGHTS_MONTH',\n",
      "       'AIRLINE_AIRPORT_FLIGHTS_MONTH', 'AVG_MONTHLY_PASS_AIRPORT',\n",
      "       'AVG_MONTHLY_PASS_AIRLINE', 'FLT_ATTENDANTS_PER_PASS',\n",
      "       'GROUND_SERV_PER_PASS', 'PLANE_AGE', 'DEPARTING_AIRPORT', 'LATITUDE',\n",
      "       'LONGITUDE', 'PREVIOUS_AIRPORT', 'PRCP', 'SNOW', 'SNWD', 'TMAX',\n",
      "       'AWND'],\n",
      "      dtype='object')\n"
     ]
    }
   ],
   "source": [
    "import pandas as pd\n",
    "\n",
    "# defaults\n",
    "adjacency_path = (\"flightdelay.csv\")\n",
    "target_column = 'DEP_DEL15'\n",
    "\n",
    "# input\n",
    "input_data = [1, 7, '0800-0859', 2, 1, 25, 143, 'Southwest Airlines Co.', 13056, 107363, 5873, 1903352, 13382999, 6.178236301460919e-05,\n",
    "              9.889412309998219e-05, 8, 'McCarran International', 36.08, -115.152, None, 0, 0, 0, 65, 2.91]\n",
    "\n",
    "def read_data(): # takes ~ 10 seconds \n",
    "    return pd.read_csv(adjacency_path, low_memory = False) \n",
    "\n",
    "def divide_datasets(data, target_column): # will divide the dataset into a learning set and a test set\n",
    "    x = data.drop(columns=[target_column])\n",
    "    y = data[target_column]\n",
    "    return x, y\n",
    "\n",
    "def get_attributes(data): # returns the tree attributes <=> data columns \\ target column\n",
    "    attributes = data.columns.drop(target_column)\n",
    "    return attributes\n",
    "\n",
    "def pre_proccess(ratio): # reads the data and divides it into a learning set and a testing set and returns the attributes (columns \\ target)\n",
    "    assert 0 <= ratio <= 1, \"Ratio must be between 0 and 1\"\n",
    "    data = read_data()\n",
    "    learning_set = data.sample(frac = ratio, random_state = 42)\n",
    "    testing_set = data.drop(learning_set.index)\n",
    "    attributes = get_attributes(learning_set)\n",
    "    return learning_set, testing_set, attributes\n",
    "\n",
    "def decision_tree_learning(examples, attributes, parent_examples): # builds the decision tree \n",
    "    pass\n",
    "\n",
    "def build_tree(ratio):\n",
    "    learning_set, tesing_set, attributes = pre_proccess(ratio)\n",
    "    tree = decision_tree_learning(learning_set, attributes, None)\n",
    "\n",
    "def tree_error(k):\n",
    "    pass\n",
    "\n",
    "def is_late(row_input):\n",
    "    pass\n",
    "\n",
    "if __name__ == '__main__':\n",
    "    build_tree(ratio = 0.6)"
   ]
  },
  {
   "cell_type": "code",
   "execution_count": null,
   "metadata": {},
   "outputs": [],
   "source": []
  }
 ],
 "metadata": {
  "kernelspec": {
   "display_name": "Python 3",
   "language": "python",
   "name": "python3"
  },
  "language_info": {
   "codemirror_mode": {
    "name": "ipython",
    "version": 3
   },
   "file_extension": ".py",
   "mimetype": "text/x-python",
   "name": "python",
   "nbconvert_exporter": "python",
   "pygments_lexer": "ipython3",
   "version": "3.9.6"
  }
 },
 "nbformat": 4,
 "nbformat_minor": 2
}
