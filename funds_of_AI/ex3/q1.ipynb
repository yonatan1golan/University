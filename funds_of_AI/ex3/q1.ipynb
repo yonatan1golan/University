{
 "cells": [
  {
   "cell_type": "code",
   "execution_count": 1,
   "metadata": {},
   "outputs": [],
   "source": [
    "import pandas as pd\n",
    "\n",
    "# defaults\n",
    "adjacency_path = (\"flightdelay.csv\")\n",
    "\n",
    "# input\n",
    "input_data = [1, 7, '0800-0859', 2, 1, 25, 143, 'Southwest Airlines Co.', 13056, 107363, 5873, 1903352, 13382999, 6.178236301460919e-05,\n",
    "              9.889412309998219e-05, 8, 'McCarran International', 36.08, -115.152, None, 0, 0, 0, 65, 2.91]\n",
    "\n",
    "def read_data():\n",
    "    return pd.read_csv(adjacency_path, low_memory = False) # takes ~ 10 seconds \n",
    "\n",
    "def build_tree(ratio):\n",
    "    pass\n",
    "\n",
    "def tree_error(k):\n",
    "    pass\n",
    "\n",
    "def is_late(row_input):\n",
    "    pass\n",
    "\n",
    "if __name__ == '__main__':\n",
    "    data = read_data()"
   ]
  }
 ],
 "metadata": {
  "kernelspec": {
   "display_name": "Python 3",
   "language": "python",
   "name": "python3"
  },
  "language_info": {
   "codemirror_mode": {
    "name": "ipython",
    "version": 3
   },
   "file_extension": ".py",
   "mimetype": "text/x-python",
   "name": "python",
   "nbconvert_exporter": "python",
   "pygments_lexer": "ipython3",
   "version": "3.12.0"
  }
 },
 "nbformat": 4,
 "nbformat_minor": 2
}
