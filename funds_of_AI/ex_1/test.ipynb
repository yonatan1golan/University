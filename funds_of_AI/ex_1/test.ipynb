{
 "cells": [
  {
   "cell_type": "code",
   "execution_count": 9,
   "metadata": {},
   "outputs": [],
   "source": [
    "import pandas as pd\n",
    "import numpy as np\n",
    "import os\n",
    "\n",
    "# defaults\n",
    "neighbors = os.path.join(\"adjacency.csv\")\n",
    "\n",
    "# classes\n",
    "class County:\n",
    "    def __init__(self, txt:str):\n",
    "        self.name = txt.split(\",\")[0]\n",
    "        self.state = txt.split(\",\")[1]\n",
    "        self.neighbors = []\n",
    "\n",
    "        self.g = np.inf\n",
    "        self.h = np.inf\n",
    "        self.f = self.g + self.h\n",
    "    \n",
    "    def add_neighbor(self, neighbor):\n",
    "        if self.name != neighbor.name and self.state != neighbor.state:\n",
    "            self.neighbors.append(neighbor)\n",
    "\n",
    "\n",
    "# reads the csv file and converts it into a dataframe\n",
    "def read_neighborgs(file_name: os) -> pd.DataFrame:\n",
    "    return pd.read_csv(file_name)\n",
    "\n",
    "# returns the unique values in a df[col_name]\n",
    "def get_unique_list(df: pd.DataFrame, col_name: str) -> list:\n",
    "    return list(set(df[col_name]))\n",
    "\n",
    "# gets a list of text and returns a list of County objects\n",
    "def make_object_list(lst: list) -> list:\n",
    "    return [County(c) for c in lst]\n",
    "\n",
    "# finds the shortest path from the starting locations to the goal location\n",
    "# using a search method - an integer\n",
    "# details_output = {F: not showing the first iteration, T: showing the first iteration}\n",
    "def find_path(starting_locations ,goal_locations ,search_method: int, detail_output: bool):\n",
    "    pass\n",
    "\n",
    "if __name__ == \"__main__\":\n",
    "    raw_df = read_neighborgs(neighbors)\n",
    "    (unique_counties, unique_neighbors) = (get_unique_list(raw_df, 'countyname'), get_unique_list(raw_df, 'neighborname')) # to hold the unique text values of counties and neighbors\n",
    "    (county_objects, neighbor_objects) = (make_object_list(unique_counties), make_object_list(unique_neighbors)) # transforming the text lists into a County objects list\n",
    "\n",
    "    # having a dict that represents the unique counties.\n",
    "    # key == county.name\n",
    "    # value = county object\n",
    "    counties_dict = {county.name: county for county in county_objects}  \n",
    "    \n",
    "    # for index, record in raw_df.iterrows():\n",
    "    #     county = record['countyname']\n",
    "    #     neighbor = record['neighborname']\n",
    "    #     if county in counties_dict:\n",
    "    #         counties_dict[county].value.addneighbor(neighbor)\n",
    "    #     else:\n",
    "\n",
    "    \n"
   ]
  },
  {
   "cell_type": "code",
   "execution_count": null,
   "metadata": {},
   "outputs": [],
   "source": []
  }
 ],
 "metadata": {
  "kernelspec": {
   "display_name": "Python 3",
   "language": "python",
   "name": "python3"
  },
  "language_info": {
   "codemirror_mode": {
    "name": "ipython",
    "version": 3
   },
   "file_extension": ".py",
   "mimetype": "text/x-python",
   "name": "python",
   "nbconvert_exporter": "python",
   "pygments_lexer": "ipython3",
   "version": "3.12.0"
  }
 },
 "nbformat": 4,
 "nbformat_minor": 2
}
