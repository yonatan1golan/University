{
 "cells": [
  {
   "cell_type": "code",
   "execution_count": 4,
   "metadata": {},
   "outputs": [
    {
     "name": "stdout",
     "output_type": "stream",
     "text": [
      "3232\n",
      "3240\n"
     ]
    }
   ],
   "source": [
    "import pandas as pd\n",
    "\n",
    "# defaults\n",
    "neighbours = \"adjacency.csv\"\n",
    "\n",
    "# reads the csv file and converts it into a dataframe\n",
    "def read_neighborgs(file_name: str) -> pd.DataFrame:\n",
    "    return pd.read_csv(file_name)\n",
    "\n",
    "# gets a list of counties and returns the uniques\n",
    "def get_unique_counties(counties: list) -> list:\n",
    "    return list(set(counties))\n",
    "\n",
    "# gets a list of neighbors and returns the uniques\n",
    "def get_unique_neighbors(neighbours: list) -> list:\n",
    "    return list(set(neighbours))\n",
    "\n",
    "# finds the shortest path from the starting locations to the goal location\n",
    "# using a search method - an integer\n",
    "# details_output = {F: not showing the first iteration, T: showing the first iteration}\n",
    "def find_path(starting_locations ,goal_locations ,search_method: int, detail_output: bool):\n",
    "    pass\n",
    "\n",
    "if __name__ == \"__main__\":\n",
    "    raw_df = read_neighborgs(neighbours)\n",
    "    counties = get_unique_counties(raw_df['countyname'])\n",
    "    neighbours = get_unique_neighbors(raw_df['neighborname'])\n"
   ]
  }
 ],
 "metadata": {
  "kernelspec": {
   "display_name": "Python 3",
   "language": "python",
   "name": "python3"
  },
  "language_info": {
   "codemirror_mode": {
    "name": "ipython",
    "version": 3
   },
   "file_extension": ".py",
   "mimetype": "text/x-python",
   "name": "python",
   "nbconvert_exporter": "python",
   "pygments_lexer": "ipython3",
   "version": "3.9.6"
  }
 },
 "nbformat": 4,
 "nbformat_minor": 2
}
