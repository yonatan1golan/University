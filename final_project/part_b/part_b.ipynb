{
 "cells": [
  {
   "cell_type": "code",
   "execution_count": 38,
   "id": "c0e1a109",
   "metadata": {},
   "outputs": [],
   "source": [
    "from datetime import date\n",
    "import yfinance as yf\n",
    "import pandas as pd"
   ]
  },
  {
   "cell_type": "code",
   "execution_count": 39,
   "id": "ef998c90",
   "metadata": {},
   "outputs": [],
   "source": [
    "# CONFIGS\n",
    "tesla_stock = yf.Ticker(\"TSLA\")\n",
    "TRUMPS_FIRST_ELECTION_PERIOD = ('2016-10-08', '2017-04-20')\n",
    "BIDENS_FIRST_ELECTION_PERIOD = ('2020-10-08', '2021-04-20')\n",
    "TRUMPS_SECOND_ELECTION_PERIOD = ('2024-10-08', date.today().strftime('%Y-%m-%d'))"
   ]
  },
  {
   "cell_type": "code",
   "execution_count": 40,
   "id": "9369e710",
   "metadata": {},
   "outputs": [],
   "source": [
    "def get_stocks_data(ticker, start_date, end_date):\n",
    "    data = pd.DataFrame(ticker.history(start=start_date, end=end_date))\n",
    "    data.reset_index(inplace=True)\n",
    "    data['Date'] = pd.to_datetime(data['Date'], format='%Y-%m-%d %H:%M:%S - %z').dt.strftime('%Y-%m-%d')\n",
    "    return data"
   ]
  },
  {
   "cell_type": "code",
   "execution_count": 41,
   "id": "6ad86894",
   "metadata": {},
   "outputs": [],
   "source": [
    "tesla_stock_on_trumps_first_election = get_stocks_data(ticker=tesla_stock, start_date=TRUMPS_FIRST_ELECTION_PERIOD[0], end_date=TRUMPS_FIRST_ELECTION_PERIOD[1])\n",
    "tesla_stock_on_bidens_first_election = get_stocks_data(ticker=tesla_stock, start_date=BIDENS_FIRST_ELECTION_PERIOD[0], end_date=BIDENS_FIRST_ELECTION_PERIOD[1])\n",
    "tesla_stock_on_trumps_second_election = get_stocks_data(ticker=tesla_stock, start_date=TRUMPS_SECOND_ELECTION_PERIOD[0], end_date=TRUMPS_SECOND_ELECTION_PERIOD[1])"
   ]
  },
  {
   "cell_type": "code",
   "execution_count": null,
   "id": "2e8fb55f",
   "metadata": {},
   "outputs": [
    {
     "name": "stdout",
     "output_type": "stream",
     "text": [
      "           Date       Open       High        Low      Close     Volume  \\\n",
      "0    2016-10-10  13.423333  13.609333  13.310667  13.396667   49744500   \n",
      "1    2016-10-11  13.456667  13.480000  13.220667  13.340000   34926000   \n",
      "2    2016-10-12  13.396667  13.592000  13.361333  13.434000   29560500   \n",
      "3    2016-10-13  13.366667  13.393333  13.136667  13.349333   37419000   \n",
      "4    2016-10-14  13.377333  13.428667  13.086667  13.100667   64048500   \n",
      "..          ...        ...        ...        ...        ...        ...   \n",
      "127  2017-04-12  20.422667  20.563334  19.754667  19.789333   90760500   \n",
      "128  2017-04-13  19.780001  20.492666  19.686666  20.266666  139269000   \n",
      "129  2017-04-17  20.180000  20.266666  19.912001  20.096001   62080500   \n",
      "130  2017-04-18  19.980000  20.056000  19.860001  20.016666   45535500   \n",
      "131  2017-04-19  20.164000  20.441334  20.140667  20.368000   58470000   \n",
      "\n",
      "     Dividends  Stock Splits  \n",
      "0          0.0           0.0  \n",
      "1          0.0           0.0  \n",
      "2          0.0           0.0  \n",
      "3          0.0           0.0  \n",
      "4          0.0           0.0  \n",
      "..         ...           ...  \n",
      "127        0.0           0.0  \n",
      "128        0.0           0.0  \n",
      "129        0.0           0.0  \n",
      "130        0.0           0.0  \n",
      "131        0.0           0.0  \n",
      "\n",
      "[132 rows x 8 columns]\n"
     ]
    }
   ],
   "source": []
  },
  {
   "cell_type": "code",
   "execution_count": null,
   "id": "5f410bce",
   "metadata": {},
   "outputs": [],
   "source": []
  }
 ],
 "metadata": {
  "kernelspec": {
   "display_name": ".venv",
   "language": "python",
   "name": "python3"
  },
  "language_info": {
   "codemirror_mode": {
    "name": "ipython",
    "version": 3
   },
   "file_extension": ".py",
   "mimetype": "text/x-python",
   "name": "python",
   "nbconvert_exporter": "python",
   "pygments_lexer": "ipython3",
   "version": "3.12.6"
  }
 },
 "nbformat": 4,
 "nbformat_minor": 5
}
